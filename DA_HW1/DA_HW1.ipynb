{
 "cells": [
  {
   "cell_type": "markdown",
   "id": "13e01d6c-ab01-4a58-862a-6b27ffa7c05c",
   "metadata": {},
   "source": [
    "Импортируем библиотеки"
   ]
  },
  {
   "cell_type": "code",
   "execution_count": 1,
   "id": "6e4f1d1e-6920-4f9a-96e5-999cfb6f4925",
   "metadata": {},
   "outputs": [],
   "source": [
    "import pandas as pd\n",
    "import numpy as np"
   ]
  },
  {
   "cell_type": "markdown",
   "id": "b5b6810a-2c42-42b5-9e97-9a4568ce5373",
   "metadata": {},
   "source": [
    "Импортируем датасеты"
   ]
  },
  {
   "cell_type": "code",
   "execution_count": 2,
   "id": "b076a282-0161-4efd-9aea-c4661c47fca3",
   "metadata": {},
   "outputs": [],
   "source": [
    "train_data = pd.read_csv('data/train.csv')\n",
    "lectures_data = pd.read_csv('data/lectures.csv')\n",
    "questions_data = pd.read_csv('data/questions.csv')"
   ]
  },
  {
   "cell_type": "markdown",
   "id": "ba092028-2ed1-4828-a530-17a317923fb7",
   "metadata": {},
   "source": [
    "Рассмотрим данные обучающей выборки"
   ]
  },
  {
   "cell_type": "code",
   "execution_count": 17,
   "id": "5951d119-a9b4-4f1b-9aff-b87e3a36b6a5",
   "metadata": {},
   "outputs": [
    {
     "data": {
      "text/html": [
       "<div>\n",
       "<style scoped>\n",
       "    .dataframe tbody tr th:only-of-type {\n",
       "        vertical-align: middle;\n",
       "    }\n",
       "\n",
       "    .dataframe tbody tr th {\n",
       "        vertical-align: top;\n",
       "    }\n",
       "\n",
       "    .dataframe thead th {\n",
       "        text-align: right;\n",
       "    }\n",
       "</style>\n",
       "<table border=\"1\" class=\"dataframe\">\n",
       "  <thead>\n",
       "    <tr style=\"text-align: right;\">\n",
       "      <th></th>\n",
       "      <th>row_id</th>\n",
       "      <th>timestamp</th>\n",
       "      <th>user_id</th>\n",
       "      <th>content_id</th>\n",
       "      <th>content_type_id</th>\n",
       "      <th>task_container_id</th>\n",
       "      <th>user_answer</th>\n",
       "      <th>answered_correctly</th>\n",
       "      <th>prior_question_elapsed_time</th>\n",
       "      <th>prior_question_had_explanation</th>\n",
       "    </tr>\n",
       "  </thead>\n",
       "  <tbody>\n",
       "    <tr>\n",
       "      <th>0</th>\n",
       "      <td>0</td>\n",
       "      <td>0</td>\n",
       "      <td>115</td>\n",
       "      <td>5692</td>\n",
       "      <td>0</td>\n",
       "      <td>1</td>\n",
       "      <td>3</td>\n",
       "      <td>1</td>\n",
       "      <td>NaN</td>\n",
       "      <td>NaN</td>\n",
       "    </tr>\n",
       "    <tr>\n",
       "      <th>1</th>\n",
       "      <td>1</td>\n",
       "      <td>56943</td>\n",
       "      <td>115</td>\n",
       "      <td>5716</td>\n",
       "      <td>0</td>\n",
       "      <td>2</td>\n",
       "      <td>2</td>\n",
       "      <td>1</td>\n",
       "      <td>37000.0</td>\n",
       "      <td>False</td>\n",
       "    </tr>\n",
       "    <tr>\n",
       "      <th>2</th>\n",
       "      <td>2</td>\n",
       "      <td>118363</td>\n",
       "      <td>115</td>\n",
       "      <td>128</td>\n",
       "      <td>0</td>\n",
       "      <td>0</td>\n",
       "      <td>0</td>\n",
       "      <td>1</td>\n",
       "      <td>55000.0</td>\n",
       "      <td>False</td>\n",
       "    </tr>\n",
       "    <tr>\n",
       "      <th>3</th>\n",
       "      <td>3</td>\n",
       "      <td>131167</td>\n",
       "      <td>115</td>\n",
       "      <td>7860</td>\n",
       "      <td>0</td>\n",
       "      <td>3</td>\n",
       "      <td>0</td>\n",
       "      <td>1</td>\n",
       "      <td>19000.0</td>\n",
       "      <td>False</td>\n",
       "    </tr>\n",
       "    <tr>\n",
       "      <th>4</th>\n",
       "      <td>4</td>\n",
       "      <td>137965</td>\n",
       "      <td>115</td>\n",
       "      <td>7922</td>\n",
       "      <td>0</td>\n",
       "      <td>4</td>\n",
       "      <td>1</td>\n",
       "      <td>1</td>\n",
       "      <td>11000.0</td>\n",
       "      <td>False</td>\n",
       "    </tr>\n",
       "  </tbody>\n",
       "</table>\n",
       "</div>"
      ],
      "text/plain": [
       "   row_id  timestamp  user_id  content_id  content_type_id  task_container_id  \\\n",
       "0       0          0      115        5692                0                  1   \n",
       "1       1      56943      115        5716                0                  2   \n",
       "2       2     118363      115         128                0                  0   \n",
       "3       3     131167      115        7860                0                  3   \n",
       "4       4     137965      115        7922                0                  4   \n",
       "\n",
       "   user_answer  answered_correctly  prior_question_elapsed_time  \\\n",
       "0            3                   1                          NaN   \n",
       "1            2                   1                      37000.0   \n",
       "2            0                   1                      55000.0   \n",
       "3            0                   1                      19000.0   \n",
       "4            1                   1                      11000.0   \n",
       "\n",
       "  prior_question_had_explanation  \n",
       "0                            NaN  \n",
       "1                          False  \n",
       "2                          False  \n",
       "3                          False  \n",
       "4                          False  "
      ]
     },
     "execution_count": 17,
     "metadata": {},
     "output_type": "execute_result"
    }
   ],
   "source": [
    "train_data.head()"
   ]
  },
  {
   "cell_type": "markdown",
   "id": "170fd72f-518f-4e6d-b9ab-fd302b183560",
   "metadata": {},
   "source": [
    "В первой же строке видим, что данные предыдущего вопроса отсутствуют (т.к. его не могло быть) - данные упорядочены во времени"
   ]
  },
  {
   "cell_type": "markdown",
   "id": "17c0d0c6-fa51-4efd-b2de-1def2aafd64c",
   "metadata": {},
   "source": [
    "Выведем информацию о наборе переменных в train"
   ]
  },
  {
   "cell_type": "code",
   "execution_count": 19,
   "id": "fcf08ac9-1e6f-4224-b08d-b86c44258f29",
   "metadata": {},
   "outputs": [
    {
     "name": "stdout",
     "output_type": "stream",
     "text": [
      "<class 'pandas.core.frame.DataFrame'>\n",
      "RangeIndex: 101230332 entries, 0 to 101230331\n",
      "Data columns (total 10 columns):\n",
      " #   Column                          Dtype  \n",
      "---  ------                          -----  \n",
      " 0   row_id                          int64  \n",
      " 1   timestamp                       int64  \n",
      " 2   user_id                         int64  \n",
      " 3   content_id                      int64  \n",
      " 4   content_type_id                 int64  \n",
      " 5   task_container_id               int64  \n",
      " 6   user_answer                     int64  \n",
      " 7   answered_correctly              int64  \n",
      " 8   prior_question_elapsed_time     float64\n",
      " 9   prior_question_had_explanation  object \n",
      "dtypes: float64(1), int64(8), object(1)\n",
      "memory usage: 7.5+ GB\n"
     ]
    }
   ],
   "source": [
    "train_data.info()"
   ]
  },
  {
   "cell_type": "markdown",
   "id": "46df92d4-51f1-48f9-83ee-6e5c4295a128",
   "metadata": {},
   "source": [
    "Видим, что формат данных может быть сокращен для экономии памяти\n",
    "\n",
    "Проведем необходимые изменения (условия были даны в задании)"
   ]
  },
  {
   "cell_type": "code",
   "execution_count": 20,
   "id": "e7f6b1fb-444f-4aa5-885b-2434baaef17c",
   "metadata": {},
   "outputs": [],
   "source": [
    "train_data['user_id'] = train_data['user_id'].astype('int32')\n",
    "train_data['content_id'] = train_data['content_id'].astype('int16')\n",
    "train_data['content_type_id'] = train_data['content_type_id'].astype('int8')\n",
    "train_data['task_container_id'] = train_data['task_container_id'].astype('int16')\n",
    "train_data['user_answer'] = train_data['user_answer'].astype('int8')\n",
    "train_data['answered_correctly'] = train_data['answered_correctly'].astype('int8')\n",
    "train_data['prior_question_elapsed_time'] = train_data['prior_question_elapsed_time'].astype('float32')\n",
    "train_data['prior_question_had_explanation'] = train_data['prior_question_had_explanation'].astype('float32')"
   ]
  },
  {
   "cell_type": "markdown",
   "id": "f0f2ac6b-cbce-4660-bb07-250e8758b5f9",
   "metadata": {},
   "source": [
    "Проверяем, как были отформатированы данные"
   ]
  },
  {
   "cell_type": "code",
   "execution_count": 21,
   "id": "d09c47dd-beab-4e32-96aa-d9cb0b8cefbd",
   "metadata": {},
   "outputs": [
    {
     "name": "stdout",
     "output_type": "stream",
     "text": [
      "<class 'pandas.core.frame.DataFrame'>\n",
      "RangeIndex: 101230332 entries, 0 to 101230331\n",
      "Data columns (total 10 columns):\n",
      " #   Column                          Non-Null Count      Dtype  \n",
      "---  ------                          --------------      -----  \n",
      " 0   row_id                          101230332 non-null  int64  \n",
      " 1   timestamp                       101230332 non-null  int64  \n",
      " 2   user_id                         101230332 non-null  int32  \n",
      " 3   content_id                      101230332 non-null  int16  \n",
      " 4   content_type_id                 101230332 non-null  int8   \n",
      " 5   task_container_id               101230332 non-null  int16  \n",
      " 6   user_answer                     101230332 non-null  int8   \n",
      " 7   answered_correctly              101230332 non-null  int8   \n",
      " 8   prior_question_elapsed_time     98878794 non-null   float32\n",
      " 9   prior_question_had_explanation  100837826 non-null  float32\n",
      "dtypes: float32(2), int16(2), int32(1), int64(2), int8(3)\n",
      "memory usage: 3.3 GB\n"
     ]
    }
   ],
   "source": [
    "train_data.info(show_counts=True)"
   ]
  },
  {
   "cell_type": "markdown",
   "id": "8fe59214-fabc-4040-bc7d-c4396d9a749b",
   "metadata": {},
   "source": [
    "Объем использованной памяти сократился больше, чем вдвое (7.5+ -> 3.3 GB)"
   ]
  },
  {
   "cell_type": "markdown",
   "id": "13dba0b2-13dc-40d1-956e-445a84e3a632",
   "metadata": {},
   "source": [
    "На самом деле в этом датасете есть 2 булевых/dummy/фиктвных переменных: content_type_id и prior_question_had_explanation"
   ]
  },
  {
   "cell_type": "markdown",
   "id": "c88ed82e-cab9-4219-bfb7-dd7b810f848c",
   "metadata": {},
   "source": [
    "Из таблицы видно, что в двух последних переменных есть пропущенные значения. Выведем их точное количество-"
   ]
  },
  {
   "cell_type": "code",
   "execution_count": 22,
   "id": "854d7f39-03a3-429f-9d64-261aff1d9835",
   "metadata": {},
   "outputs": [
    {
     "data": {
      "text/plain": [
       "row_id                                  0\n",
       "timestamp                               0\n",
       "user_id                                 0\n",
       "content_id                              0\n",
       "content_type_id                         0\n",
       "task_container_id                       0\n",
       "user_answer                             0\n",
       "answered_correctly                      0\n",
       "prior_question_elapsed_time       2351538\n",
       "prior_question_had_explanation     392506\n",
       "dtype: int64"
      ]
     },
     "execution_count": 22,
     "metadata": {},
     "output_type": "execute_result"
    }
   ],
   "source": [
    "train_data.isna().sum()"
   ]
  },
  {
   "cell_type": "code",
   "execution_count": 23,
   "id": "1f8df536-cf06-4886-acf3-eed64e6d1518",
   "metadata": {},
   "outputs": [
    {
     "data": {
      "text/html": [
       "<div>\n",
       "<style scoped>\n",
       "    .dataframe tbody tr th:only-of-type {\n",
       "        vertical-align: middle;\n",
       "    }\n",
       "\n",
       "    .dataframe tbody tr th {\n",
       "        vertical-align: top;\n",
       "    }\n",
       "\n",
       "    .dataframe thead th {\n",
       "        text-align: right;\n",
       "    }\n",
       "</style>\n",
       "<table border=\"1\" class=\"dataframe\">\n",
       "  <thead>\n",
       "    <tr style=\"text-align: right;\">\n",
       "      <th></th>\n",
       "      <th>row_id</th>\n",
       "      <th>timestamp</th>\n",
       "      <th>user_id</th>\n",
       "      <th>content_id</th>\n",
       "      <th>content_type_id</th>\n",
       "      <th>task_container_id</th>\n",
       "      <th>user_answer</th>\n",
       "      <th>answered_correctly</th>\n",
       "      <th>prior_question_elapsed_time</th>\n",
       "      <th>prior_question_had_explanation</th>\n",
       "    </tr>\n",
       "  </thead>\n",
       "  <tbody>\n",
       "    <tr>\n",
       "      <th>count</th>\n",
       "      <td>1.012303e+08</td>\n",
       "      <td>1.012303e+08</td>\n",
       "      <td>1.012303e+08</td>\n",
       "      <td>1.012303e+08</td>\n",
       "      <td>1.012303e+08</td>\n",
       "      <td>1.012303e+08</td>\n",
       "      <td>1.012303e+08</td>\n",
       "      <td>1.012303e+08</td>\n",
       "      <td>9.887879e+07</td>\n",
       "      <td>1.008378e+08</td>\n",
       "    </tr>\n",
       "    <tr>\n",
       "      <th>mean</th>\n",
       "      <td>5.061517e+07</td>\n",
       "      <td>7.703644e+09</td>\n",
       "      <td>1.076732e+09</td>\n",
       "      <td>5.219605e+03</td>\n",
       "      <td>1.935222e-02</td>\n",
       "      <td>9.040624e+02</td>\n",
       "      <td>1.376123e+00</td>\n",
       "      <td>6.251644e-01</td>\n",
       "      <td>2.542384e+04</td>\n",
       "      <td>8.894043e-01</td>\n",
       "    </tr>\n",
       "    <tr>\n",
       "      <th>std</th>\n",
       "      <td>2.922268e+07</td>\n",
       "      <td>1.159266e+10</td>\n",
       "      <td>6.197163e+08</td>\n",
       "      <td>3.866359e+03</td>\n",
       "      <td>1.377596e-01</td>\n",
       "      <td>1.358302e+03</td>\n",
       "      <td>1.192896e+00</td>\n",
       "      <td>5.225307e-01</td>\n",
       "      <td>2.122839e+04</td>\n",
       "      <td>4.078948e-01</td>\n",
       "    </tr>\n",
       "    <tr>\n",
       "      <th>min</th>\n",
       "      <td>0.000000e+00</td>\n",
       "      <td>0.000000e+00</td>\n",
       "      <td>1.150000e+02</td>\n",
       "      <td>0.000000e+00</td>\n",
       "      <td>0.000000e+00</td>\n",
       "      <td>0.000000e+00</td>\n",
       "      <td>-1.000000e+00</td>\n",
       "      <td>-1.000000e+00</td>\n",
       "      <td>0.000000e+00</td>\n",
       "      <td>0.000000e+00</td>\n",
       "    </tr>\n",
       "    <tr>\n",
       "      <th>25%</th>\n",
       "      <td>2.530758e+07</td>\n",
       "      <td>5.243436e+08</td>\n",
       "      <td>5.408116e+08</td>\n",
       "      <td>2.063000e+03</td>\n",
       "      <td>0.000000e+00</td>\n",
       "      <td>1.040000e+02</td>\n",
       "      <td>0.000000e+00</td>\n",
       "      <td>0.000000e+00</td>\n",
       "      <td>1.600000e+04</td>\n",
       "      <td>1.000000e+00</td>\n",
       "    </tr>\n",
       "    <tr>\n",
       "      <th>50%</th>\n",
       "      <td>5.061517e+07</td>\n",
       "      <td>2.674234e+09</td>\n",
       "      <td>1.071781e+09</td>\n",
       "      <td>5.026000e+03</td>\n",
       "      <td>0.000000e+00</td>\n",
       "      <td>3.820000e+02</td>\n",
       "      <td>1.000000e+00</td>\n",
       "      <td>1.000000e+00</td>\n",
       "      <td>2.100000e+04</td>\n",
       "      <td>1.000000e+00</td>\n",
       "    </tr>\n",
       "    <tr>\n",
       "      <th>75%</th>\n",
       "      <td>7.592275e+07</td>\n",
       "      <td>9.924551e+09</td>\n",
       "      <td>1.615742e+09</td>\n",
       "      <td>7.425000e+03</td>\n",
       "      <td>0.000000e+00</td>\n",
       "      <td>1.094000e+03</td>\n",
       "      <td>3.000000e+00</td>\n",
       "      <td>1.000000e+00</td>\n",
       "      <td>2.966600e+04</td>\n",
       "      <td>1.000000e+00</td>\n",
       "    </tr>\n",
       "    <tr>\n",
       "      <th>max</th>\n",
       "      <td>1.012303e+08</td>\n",
       "      <td>8.742577e+10</td>\n",
       "      <td>2.147483e+09</td>\n",
       "      <td>3.273600e+04</td>\n",
       "      <td>1.000000e+00</td>\n",
       "      <td>9.999000e+03</td>\n",
       "      <td>3.000000e+00</td>\n",
       "      <td>1.000000e+00</td>\n",
       "      <td>3.000000e+05</td>\n",
       "      <td>1.000000e+00</td>\n",
       "    </tr>\n",
       "  </tbody>\n",
       "</table>\n",
       "</div>"
      ],
      "text/plain": [
       "             row_id     timestamp       user_id    content_id  \\\n",
       "count  1.012303e+08  1.012303e+08  1.012303e+08  1.012303e+08   \n",
       "mean   5.061517e+07  7.703644e+09  1.076732e+09  5.219605e+03   \n",
       "std    2.922268e+07  1.159266e+10  6.197163e+08  3.866359e+03   \n",
       "min    0.000000e+00  0.000000e+00  1.150000e+02  0.000000e+00   \n",
       "25%    2.530758e+07  5.243436e+08  5.408116e+08  2.063000e+03   \n",
       "50%    5.061517e+07  2.674234e+09  1.071781e+09  5.026000e+03   \n",
       "75%    7.592275e+07  9.924551e+09  1.615742e+09  7.425000e+03   \n",
       "max    1.012303e+08  8.742577e+10  2.147483e+09  3.273600e+04   \n",
       "\n",
       "       content_type_id  task_container_id   user_answer  answered_correctly  \\\n",
       "count     1.012303e+08       1.012303e+08  1.012303e+08        1.012303e+08   \n",
       "mean      1.935222e-02       9.040624e+02  1.376123e+00        6.251644e-01   \n",
       "std       1.377596e-01       1.358302e+03  1.192896e+00        5.225307e-01   \n",
       "min       0.000000e+00       0.000000e+00 -1.000000e+00       -1.000000e+00   \n",
       "25%       0.000000e+00       1.040000e+02  0.000000e+00        0.000000e+00   \n",
       "50%       0.000000e+00       3.820000e+02  1.000000e+00        1.000000e+00   \n",
       "75%       0.000000e+00       1.094000e+03  3.000000e+00        1.000000e+00   \n",
       "max       1.000000e+00       9.999000e+03  3.000000e+00        1.000000e+00   \n",
       "\n",
       "       prior_question_elapsed_time  prior_question_had_explanation  \n",
       "count                 9.887879e+07                    1.008378e+08  \n",
       "mean                  2.542384e+04                    8.894043e-01  \n",
       "std                   2.122839e+04                    4.078948e-01  \n",
       "min                   0.000000e+00                    0.000000e+00  \n",
       "25%                   1.600000e+04                    1.000000e+00  \n",
       "50%                   2.100000e+04                    1.000000e+00  \n",
       "75%                   2.966600e+04                    1.000000e+00  \n",
       "max                   3.000000e+05                    1.000000e+00  "
      ]
     },
     "execution_count": 23,
     "metadata": {},
     "output_type": "execute_result"
    }
   ],
   "source": [
    "train_data.describe()"
   ]
  },
  {
   "cell_type": "markdown",
   "id": "70ff3a87-77ff-4eb0-ad6d-e0a1483432e4",
   "metadata": {},
   "source": [
    "Рассмотрим сначала только события-вопросы (content_type_id == 0)\n",
    "\n",
    "Создадим маску с соответствующим фильтром\n",
    "\n",
    "Выведем на экран справку по датафрейму, убрав лишние параметры"
   ]
  },
  {
   "cell_type": "code",
   "execution_count": 24,
   "id": "74ed066f-3d36-4bbe-8d3e-8887fe51c2d5",
   "metadata": {},
   "outputs": [
    {
     "data": {
      "text/html": [
       "<div>\n",
       "<style scoped>\n",
       "    .dataframe tbody tr th:only-of-type {\n",
       "        vertical-align: middle;\n",
       "    }\n",
       "\n",
       "    .dataframe tbody tr th {\n",
       "        vertical-align: top;\n",
       "    }\n",
       "\n",
       "    .dataframe thead th {\n",
       "        text-align: right;\n",
       "    }\n",
       "</style>\n",
       "<table border=\"1\" class=\"dataframe\">\n",
       "  <thead>\n",
       "    <tr style=\"text-align: right;\">\n",
       "      <th></th>\n",
       "      <th>timestamp</th>\n",
       "      <th>answered_correctly</th>\n",
       "      <th>prior_question_elapsed_time</th>\n",
       "      <th>prior_question_had_explanation</th>\n",
       "    </tr>\n",
       "  </thead>\n",
       "  <tbody>\n",
       "    <tr>\n",
       "      <th>count</th>\n",
       "      <td>9.927130e+07</td>\n",
       "      <td>9.927130e+07</td>\n",
       "      <td>9.887879e+07</td>\n",
       "      <td>9.887879e+07</td>\n",
       "    </tr>\n",
       "    <tr>\n",
       "      <th>mean</th>\n",
       "      <td>7.702058e+09</td>\n",
       "      <td>6.572355e-01</td>\n",
       "      <td>2.542385e+04</td>\n",
       "      <td>9.070255e-01</td>\n",
       "    </tr>\n",
       "    <tr>\n",
       "      <th>std</th>\n",
       "      <td>1.159498e+10</td>\n",
       "      <td>4.746335e-01</td>\n",
       "      <td>2.122839e+04</td>\n",
       "      <td>4.119157e-01</td>\n",
       "    </tr>\n",
       "    <tr>\n",
       "      <th>min</th>\n",
       "      <td>0.000000e+00</td>\n",
       "      <td>0.000000e+00</td>\n",
       "      <td>0.000000e+00</td>\n",
       "      <td>0.000000e+00</td>\n",
       "    </tr>\n",
       "    <tr>\n",
       "      <th>25%</th>\n",
       "      <td>5.195280e+08</td>\n",
       "      <td>0.000000e+00</td>\n",
       "      <td>1.600000e+04</td>\n",
       "      <td>1.000000e+00</td>\n",
       "    </tr>\n",
       "    <tr>\n",
       "      <th>50%</th>\n",
       "      <td>2.669611e+09</td>\n",
       "      <td>1.000000e+00</td>\n",
       "      <td>2.100000e+04</td>\n",
       "      <td>1.000000e+00</td>\n",
       "    </tr>\n",
       "    <tr>\n",
       "      <th>75%</th>\n",
       "      <td>9.929147e+09</td>\n",
       "      <td>1.000000e+00</td>\n",
       "      <td>2.966600e+04</td>\n",
       "      <td>1.000000e+00</td>\n",
       "    </tr>\n",
       "    <tr>\n",
       "      <th>max</th>\n",
       "      <td>8.742577e+10</td>\n",
       "      <td>1.000000e+00</td>\n",
       "      <td>3.000000e+05</td>\n",
       "      <td>1.000000e+00</td>\n",
       "    </tr>\n",
       "  </tbody>\n",
       "</table>\n",
       "</div>"
      ],
      "text/plain": [
       "          timestamp  answered_correctly  prior_question_elapsed_time  \\\n",
       "count  9.927130e+07        9.927130e+07                 9.887879e+07   \n",
       "mean   7.702058e+09        6.572355e-01                 2.542385e+04   \n",
       "std    1.159498e+10        4.746335e-01                 2.122839e+04   \n",
       "min    0.000000e+00        0.000000e+00                 0.000000e+00   \n",
       "25%    5.195280e+08        0.000000e+00                 1.600000e+04   \n",
       "50%    2.669611e+09        1.000000e+00                 2.100000e+04   \n",
       "75%    9.929147e+09        1.000000e+00                 2.966600e+04   \n",
       "max    8.742577e+10        1.000000e+00                 3.000000e+05   \n",
       "\n",
       "       prior_question_had_explanation  \n",
       "count                    9.887879e+07  \n",
       "mean                     9.070255e-01  \n",
       "std                      4.119157e-01  \n",
       "min                      0.000000e+00  \n",
       "25%                      1.000000e+00  \n",
       "50%                      1.000000e+00  \n",
       "75%                      1.000000e+00  \n",
       "max                      1.000000e+00  "
      ]
     },
     "execution_count": 24,
     "metadata": {},
     "output_type": "execute_result"
    }
   ],
   "source": [
    "train_data_q_only = (train_data['content_type_id'] == 0)\n",
    "train_data[train_data_q_only].describe().loc[:, ['timestamp', 'answered_correctly' , 'prior_question_elapsed_time', 'prior_question_had_explanation']]"
   ]
  },
  {
   "cell_type": "markdown",
   "id": "0d7cba8d-cea5-436c-88da-86aa5443b6cc",
   "metadata": {},
   "source": [
    "Выведены 3 временных показателя и параметр, отражающий правильность ответа студента (answered_correctly). Согласно его среднему, 65,7% ответов были верными\n",
    "90,7% вопросов имели объяснение по предыдущему вопросу перед постановкой"
   ]
  },
  {
   "cell_type": "markdown",
   "id": "111d687f-7d31-4bf4-884c-423323734682",
   "metadata": {},
   "source": [
    "Создадим копию нашего датасета, в котором уберем все лишние параметры, кроме \"правильных ответов\" и отметки о том, что предыдущий вопрос был объяснен"
   ]
  },
  {
   "cell_type": "markdown",
   "id": "c93352aa-7565-41ea-b7fa-197e550121e4",
   "metadata": {},
   "source": [
    "Посмотрим зависимость правильных ответов от получения разъяснений на предыдущий вопрос"
   ]
  },
  {
   "cell_type": "code",
   "execution_count": 25,
   "id": "2d23ccef-8713-4da5-8fd3-f03437d7de32",
   "metadata": {},
   "outputs": [
    {
     "data": {
      "text/plain": [
       "answered_correctly  prior_question_had_explanation\n",
       "1                   1.0                               0.610599\n",
       "0                   1.0                               0.296426\n",
       "1                   0.0                               0.046546\n",
       "0                   0.0                               0.046429\n",
       "Name: proportion, dtype: float64"
      ]
     },
     "execution_count": 25,
     "metadata": {},
     "output_type": "execute_result"
    }
   ],
   "source": [
    "train_df_answ = train_data[train_data_q_only].drop(['row_id',\n",
    "                                                    'timestamp',\n",
    "                                                    'user_id',\n",
    "                                                    'content_id',\n",
    "                                                    'content_type_id',\n",
    "                                                    'task_container_id',\n",
    "                                                    'user_answer',\n",
    "                                                   'prior_question_elapsed_time'], axis=1)\n",
    "train_df_answ.value_counts(normalize=True)"
   ]
  },
  {
   "cell_type": "markdown",
   "id": "30af6c50-7112-4b96-b156-90297a5256fb",
   "metadata": {},
   "source": [
    "Как видно из таблицы, в 90,73 % (61,08+29,65) вопросов имели объяснение по предыдущему вопросу перед постановкой, как и было сказано выше\n",
    "При этом только в 61,06 случае из 90,73 (или в 67,32%) учащийся, получивший разъяснения, отвечал правильно "
   ]
  },
  {
   "cell_type": "markdown",
   "id": "aa00f466-27a6-4bc7-b2cb-3b19333b5d78",
   "metadata": {},
   "source": [
    "К тому же ответу можно прийти, отфильтровавшись по переменной prior_question_had_explanation"
   ]
  },
  {
   "cell_type": "code",
   "execution_count": 26,
   "id": "c3c9ea79-45eb-4684-bcde-1ccf2b8c729a",
   "metadata": {},
   "outputs": [
    {
     "name": "stderr",
     "output_type": "stream",
     "text": [
      "C:\\Users\\avmar\\AppData\\Local\\Temp\\ipykernel_33772\\3982896269.py:1: UserWarning: Boolean Series key will be reindexed to match DataFrame index.\n",
      "  train_df_answ[(train_data['prior_question_had_explanation'] == 1.0)]['answered_correctly'].mean()\n"
     ]
    },
    {
     "data": {
      "text/plain": [
       "0.6731885043701572"
      ]
     },
     "execution_count": 26,
     "metadata": {},
     "output_type": "execute_result"
    }
   ],
   "source": [
    "train_df_answ[(train_data['prior_question_had_explanation'] == 1.0)]['answered_correctly'].mean()"
   ]
  },
  {
   "cell_type": "markdown",
   "id": "dd84fa1d-d34e-402b-897a-9346acb5b020",
   "metadata": {},
   "source": [
    "Или"
   ]
  },
  {
   "cell_type": "code",
   "execution_count": 27,
   "id": "8233abc3-2f50-4548-ad28-6b7363450aa6",
   "metadata": {},
   "outputs": [
    {
     "data": {
      "text/plain": [
       "0.6731885043701572"
      ]
     },
     "execution_count": 27,
     "metadata": {},
     "output_type": "execute_result"
    }
   ],
   "source": [
    "train_data[train_data_q_only & (train_data['prior_question_had_explanation'] == 1.0)]['answered_correctly'].mean()"
   ]
  },
  {
   "cell_type": "markdown",
   "id": "95b4ad2d-c9be-416a-9681-cf024fcb4da3",
   "metadata": {},
   "source": [
    "Рассмотрим обратный случай: в какой доле случаев был назван правильный ответ, не смотря на то, что на предыдущий вопрос не давалось объяснения"
   ]
  },
  {
   "cell_type": "code",
   "execution_count": 28,
   "id": "36182924-1014-437c-a4d0-cdbabbc81058",
   "metadata": {},
   "outputs": [
    {
     "data": {
      "text/plain": [
       "0.5006289408058143"
      ]
     },
     "execution_count": 28,
     "metadata": {},
     "output_type": "execute_result"
    }
   ],
   "source": [
    "train_data[train_data_q_only & (train_data['prior_question_had_explanation'] == 0)]['answered_correctly'].mean()"
   ]
  },
  {
   "cell_type": "markdown",
   "id": "f5010d7e-2a36-441c-a18b-01f8d9c3ea0f",
   "metadata": {},
   "source": [
    "Перезапишем датафрейм train_df_answ, где будет храниться копия исходного датафрейма с отбором по вопросам"
   ]
  },
  {
   "cell_type": "code",
   "execution_count": 29,
   "id": "a9ec0880-ac61-46ad-9a7e-13e12b1b4d0c",
   "metadata": {},
   "outputs": [],
   "source": [
    "train_df_answ = train_data[train_data_q_only].copy()"
   ]
  },
  {
   "cell_type": "markdown",
   "id": "8dc92206-9822-4066-b8bc-1411efc4db14",
   "metadata": {},
   "source": [
    "На основе параметра prior_question_had_explanation, создадим в нём ещё один столбец со сдвигом индекса на -1"
   ]
  },
  {
   "cell_type": "markdown",
   "id": "f42d2666-be7c-44d3-a83b-137874447d0e",
   "metadata": {},
   "source": [
    "Таким образом, в новом столбце будет информация о том, давались ли поянения к текущему вопросу\n",
    "\n",
    "Назовем этот параметр соответствующим именем 'current_question_has_explanation'"
   ]
  },
  {
   "cell_type": "code",
   "execution_count": 30,
   "id": "d182385a-5a63-4ecf-a497-d3de3f07ce8f",
   "metadata": {},
   "outputs": [],
   "source": [
    "train_df_answ['current_question_has_explanation'] = train_df_answ['prior_question_had_explanation'].shift(periods=-1, fill_value=0)"
   ]
  },
  {
   "cell_type": "markdown",
   "id": "167bcfed-827f-48f7-9a41-586a03f44eca",
   "metadata": {},
   "source": [
    "Посмотрим как теперь выглядит датафрейм"
   ]
  },
  {
   "cell_type": "code",
   "execution_count": 31,
   "id": "06a2ecf9-defe-44d6-a320-3bf176d8e03c",
   "metadata": {},
   "outputs": [
    {
     "data": {
      "text/html": [
       "<div>\n",
       "<style scoped>\n",
       "    .dataframe tbody tr th:only-of-type {\n",
       "        vertical-align: middle;\n",
       "    }\n",
       "\n",
       "    .dataframe tbody tr th {\n",
       "        vertical-align: top;\n",
       "    }\n",
       "\n",
       "    .dataframe thead th {\n",
       "        text-align: right;\n",
       "    }\n",
       "</style>\n",
       "<table border=\"1\" class=\"dataframe\">\n",
       "  <thead>\n",
       "    <tr style=\"text-align: right;\">\n",
       "      <th></th>\n",
       "      <th>row_id</th>\n",
       "      <th>timestamp</th>\n",
       "      <th>user_id</th>\n",
       "      <th>content_id</th>\n",
       "      <th>content_type_id</th>\n",
       "      <th>task_container_id</th>\n",
       "      <th>user_answer</th>\n",
       "      <th>answered_correctly</th>\n",
       "      <th>prior_question_elapsed_time</th>\n",
       "      <th>prior_question_had_explanation</th>\n",
       "      <th>current_question_has_explanation</th>\n",
       "    </tr>\n",
       "  </thead>\n",
       "  <tbody>\n",
       "    <tr>\n",
       "      <th>0</th>\n",
       "      <td>0</td>\n",
       "      <td>0</td>\n",
       "      <td>115</td>\n",
       "      <td>5692</td>\n",
       "      <td>0</td>\n",
       "      <td>1</td>\n",
       "      <td>3</td>\n",
       "      <td>1</td>\n",
       "      <td>NaN</td>\n",
       "      <td>NaN</td>\n",
       "      <td>0.0</td>\n",
       "    </tr>\n",
       "    <tr>\n",
       "      <th>1</th>\n",
       "      <td>1</td>\n",
       "      <td>56943</td>\n",
       "      <td>115</td>\n",
       "      <td>5716</td>\n",
       "      <td>0</td>\n",
       "      <td>2</td>\n",
       "      <td>2</td>\n",
       "      <td>1</td>\n",
       "      <td>37000.0</td>\n",
       "      <td>0.0</td>\n",
       "      <td>0.0</td>\n",
       "    </tr>\n",
       "    <tr>\n",
       "      <th>2</th>\n",
       "      <td>2</td>\n",
       "      <td>118363</td>\n",
       "      <td>115</td>\n",
       "      <td>128</td>\n",
       "      <td>0</td>\n",
       "      <td>0</td>\n",
       "      <td>0</td>\n",
       "      <td>1</td>\n",
       "      <td>55000.0</td>\n",
       "      <td>0.0</td>\n",
       "      <td>0.0</td>\n",
       "    </tr>\n",
       "    <tr>\n",
       "      <th>3</th>\n",
       "      <td>3</td>\n",
       "      <td>131167</td>\n",
       "      <td>115</td>\n",
       "      <td>7860</td>\n",
       "      <td>0</td>\n",
       "      <td>3</td>\n",
       "      <td>0</td>\n",
       "      <td>1</td>\n",
       "      <td>19000.0</td>\n",
       "      <td>0.0</td>\n",
       "      <td>0.0</td>\n",
       "    </tr>\n",
       "    <tr>\n",
       "      <th>4</th>\n",
       "      <td>4</td>\n",
       "      <td>137965</td>\n",
       "      <td>115</td>\n",
       "      <td>7922</td>\n",
       "      <td>0</td>\n",
       "      <td>4</td>\n",
       "      <td>1</td>\n",
       "      <td>1</td>\n",
       "      <td>11000.0</td>\n",
       "      <td>0.0</td>\n",
       "      <td>0.0</td>\n",
       "    </tr>\n",
       "  </tbody>\n",
       "</table>\n",
       "</div>"
      ],
      "text/plain": [
       "   row_id  timestamp  user_id  content_id  content_type_id  task_container_id  \\\n",
       "0       0          0      115        5692                0                  1   \n",
       "1       1      56943      115        5716                0                  2   \n",
       "2       2     118363      115         128                0                  0   \n",
       "3       3     131167      115        7860                0                  3   \n",
       "4       4     137965      115        7922                0                  4   \n",
       "\n",
       "   user_answer  answered_correctly  prior_question_elapsed_time  \\\n",
       "0            3                   1                          NaN   \n",
       "1            2                   1                      37000.0   \n",
       "2            0                   1                      55000.0   \n",
       "3            0                   1                      19000.0   \n",
       "4            1                   1                      11000.0   \n",
       "\n",
       "   prior_question_had_explanation  current_question_has_explanation  \n",
       "0                             NaN                               0.0  \n",
       "1                             0.0                               0.0  \n",
       "2                             0.0                               0.0  \n",
       "3                             0.0                               0.0  \n",
       "4                             0.0                               0.0  "
      ]
     },
     "execution_count": 31,
     "metadata": {},
     "output_type": "execute_result"
    }
   ],
   "source": [
    "train_df_answ.head()"
   ]
  },
  {
   "cell_type": "code",
   "execution_count": 32,
   "id": "3fc9da5a-a3d6-4521-9a34-30fe02a4eb93",
   "metadata": {},
   "outputs": [
    {
     "data": {
      "text/html": [
       "<div>\n",
       "<style scoped>\n",
       "    .dataframe tbody tr th:only-of-type {\n",
       "        vertical-align: middle;\n",
       "    }\n",
       "\n",
       "    .dataframe tbody tr th {\n",
       "        vertical-align: top;\n",
       "    }\n",
       "\n",
       "    .dataframe thead th {\n",
       "        text-align: right;\n",
       "    }\n",
       "</style>\n",
       "<table border=\"1\" class=\"dataframe\">\n",
       "  <thead>\n",
       "    <tr style=\"text-align: right;\">\n",
       "      <th></th>\n",
       "      <th>row_id</th>\n",
       "      <th>timestamp</th>\n",
       "      <th>user_id</th>\n",
       "      <th>content_id</th>\n",
       "      <th>content_type_id</th>\n",
       "      <th>task_container_id</th>\n",
       "      <th>user_answer</th>\n",
       "      <th>answered_correctly</th>\n",
       "      <th>prior_question_elapsed_time</th>\n",
       "      <th>prior_question_had_explanation</th>\n",
       "      <th>current_question_has_explanation</th>\n",
       "    </tr>\n",
       "  </thead>\n",
       "  <tbody>\n",
       "    <tr>\n",
       "      <th>101230327</th>\n",
       "      <td>101230327</td>\n",
       "      <td>428564420</td>\n",
       "      <td>2147482888</td>\n",
       "      <td>3586</td>\n",
       "      <td>0</td>\n",
       "      <td>22</td>\n",
       "      <td>0</td>\n",
       "      <td>1</td>\n",
       "      <td>18000.0</td>\n",
       "      <td>1.0</td>\n",
       "      <td>1.0</td>\n",
       "    </tr>\n",
       "    <tr>\n",
       "      <th>101230328</th>\n",
       "      <td>101230328</td>\n",
       "      <td>428585000</td>\n",
       "      <td>2147482888</td>\n",
       "      <td>6341</td>\n",
       "      <td>0</td>\n",
       "      <td>23</td>\n",
       "      <td>3</td>\n",
       "      <td>1</td>\n",
       "      <td>14000.0</td>\n",
       "      <td>1.0</td>\n",
       "      <td>1.0</td>\n",
       "    </tr>\n",
       "    <tr>\n",
       "      <th>101230329</th>\n",
       "      <td>101230329</td>\n",
       "      <td>428613475</td>\n",
       "      <td>2147482888</td>\n",
       "      <td>4212</td>\n",
       "      <td>0</td>\n",
       "      <td>24</td>\n",
       "      <td>3</td>\n",
       "      <td>1</td>\n",
       "      <td>14000.0</td>\n",
       "      <td>1.0</td>\n",
       "      <td>1.0</td>\n",
       "    </tr>\n",
       "    <tr>\n",
       "      <th>101230330</th>\n",
       "      <td>101230330</td>\n",
       "      <td>428649406</td>\n",
       "      <td>2147482888</td>\n",
       "      <td>6343</td>\n",
       "      <td>0</td>\n",
       "      <td>25</td>\n",
       "      <td>1</td>\n",
       "      <td>0</td>\n",
       "      <td>22000.0</td>\n",
       "      <td>1.0</td>\n",
       "      <td>1.0</td>\n",
       "    </tr>\n",
       "    <tr>\n",
       "      <th>101230331</th>\n",
       "      <td>101230331</td>\n",
       "      <td>428692118</td>\n",
       "      <td>2147482888</td>\n",
       "      <td>7995</td>\n",
       "      <td>0</td>\n",
       "      <td>26</td>\n",
       "      <td>3</td>\n",
       "      <td>1</td>\n",
       "      <td>29000.0</td>\n",
       "      <td>1.0</td>\n",
       "      <td>0.0</td>\n",
       "    </tr>\n",
       "  </tbody>\n",
       "</table>\n",
       "</div>"
      ],
      "text/plain": [
       "              row_id  timestamp     user_id  content_id  content_type_id  \\\n",
       "101230327  101230327  428564420  2147482888        3586                0   \n",
       "101230328  101230328  428585000  2147482888        6341                0   \n",
       "101230329  101230329  428613475  2147482888        4212                0   \n",
       "101230330  101230330  428649406  2147482888        6343                0   \n",
       "101230331  101230331  428692118  2147482888        7995                0   \n",
       "\n",
       "           task_container_id  user_answer  answered_correctly  \\\n",
       "101230327                 22            0                   1   \n",
       "101230328                 23            3                   1   \n",
       "101230329                 24            3                   1   \n",
       "101230330                 25            1                   0   \n",
       "101230331                 26            3                   1   \n",
       "\n",
       "           prior_question_elapsed_time  prior_question_had_explanation  \\\n",
       "101230327                      18000.0                             1.0   \n",
       "101230328                      14000.0                             1.0   \n",
       "101230329                      14000.0                             1.0   \n",
       "101230330                      22000.0                             1.0   \n",
       "101230331                      29000.0                             1.0   \n",
       "\n",
       "           current_question_has_explanation  \n",
       "101230327                               1.0  \n",
       "101230328                               1.0  \n",
       "101230329                               1.0  \n",
       "101230330                               1.0  \n",
       "101230331                               0.0  "
      ]
     },
     "execution_count": 32,
     "metadata": {},
     "output_type": "execute_result"
    }
   ],
   "source": [
    "train_df_answ.tail()"
   ]
  },
  {
   "cell_type": "markdown",
   "id": "739012ad-7b66-4689-99ad-acf71aa4708e",
   "metadata": {},
   "source": [
    "Убедимся, что мы работали только с вопросами: проверим, какие значения есть в переменой content_type_id"
   ]
  },
  {
   "cell_type": "code",
   "execution_count": 33,
   "id": "51646006-f7f1-4063-922d-9c255cac8f1e",
   "metadata": {},
   "outputs": [
    {
     "data": {
      "text/plain": [
       "content_type_id\n",
       "0    99271300\n",
       "Name: count, dtype: int64"
      ]
     },
     "execution_count": 33,
     "metadata": {},
     "output_type": "execute_result"
    }
   ],
   "source": [
    "train_df_answ['content_type_id'].value_counts()"
   ]
  },
  {
   "cell_type": "markdown",
   "id": "2db55a5b-a4d3-49ac-989f-ec61f0d8be85",
   "metadata": {},
   "source": [
    "Проверим, как часто студент смотрел объяснение задачи в зависимости от правильности ответа"
   ]
  },
  {
   "cell_type": "code",
   "execution_count": 34,
   "id": "6ee27b7b-ffe5-4d91-b139-f845340024a1",
   "metadata": {},
   "outputs": [
    {
     "data": {
      "text/plain": [
       "0.9291617"
      ]
     },
     "execution_count": 34,
     "metadata": {},
     "output_type": "execute_result"
    }
   ],
   "source": [
    "train_df_answ[(train_df_answ['answered_correctly'] == 1)]['current_question_has_explanation'].mean()"
   ]
  },
  {
   "cell_type": "code",
   "execution_count": 35,
   "id": "81411763-c35c-41a2-bdf9-58ed5509c41a",
   "metadata": {},
   "outputs": [
    {
     "data": {
      "text/plain": [
       "0.8644599"
      ]
     },
     "execution_count": 35,
     "metadata": {},
     "output_type": "execute_result"
    }
   ],
   "source": [
    "train_df_answ[(train_df_answ['answered_correctly'] == 0)]['current_question_has_explanation'].mean()"
   ]
  },
  {
   "cell_type": "markdown",
   "id": "a4eaefe2-3714-4fc4-a30b-ba0389183ef7",
   "metadata": {},
   "source": [
    "Видим, что после правильного ответа учащиеся чаще (92,92%) смотрели разъяснения, чем после неправильного (86,45%)"
   ]
  },
  {
   "cell_type": "code",
   "execution_count": 41,
   "id": "202043fb-3082-4a1b-9744-54541997d30b",
   "metadata": {},
   "outputs": [
    {
     "data": {
      "text/plain": [
       "25.30994921875"
      ]
     },
     "execution_count": 41,
     "metadata": {},
     "output_type": "execute_result"
    }
   ],
   "source": [
    "train_df_answ[(train_df_answ['answered_correctly'] == 1)]['prior_question_elapsed_time'].mean()/1000"
   ]
  },
  {
   "cell_type": "code",
   "execution_count": null,
   "id": "9645f439-0a25-487a-a7ff-4875911b14b7",
   "metadata": {},
   "outputs": [],
   "source": [
    "25.31 секунда в среднем требовалась для правильного ответа"
   ]
  },
  {
   "cell_type": "code",
   "execution_count": 42,
   "id": "64c5ad78-fbc5-454e-a30d-e871164ee1f6",
   "metadata": {},
   "outputs": [
    {
     "data": {
      "text/plain": [
       "25.64198828125"
      ]
     },
     "execution_count": 42,
     "metadata": {},
     "output_type": "execute_result"
    }
   ],
   "source": [
    "train_df_answ[(train_df_answ['answered_correctly'] == 0)]['prior_question_elapsed_time'].mean()/1000"
   ]
  },
  {
   "cell_type": "markdown",
   "id": "ebfa23fe-55e4-475f-8a11-192e201b137c",
   "metadata": {},
   "source": [
    "25.64 секунда в среднем требовалась для неверного ответа"
   ]
  },
  {
   "cell_type": "markdown",
   "id": "149d6c8e-00df-4b1a-9f40-6f0038dae4f7",
   "metadata": {},
   "source": [
    "Посмотрим на другие наборы данных"
   ]
  },
  {
   "cell_type": "code",
   "execution_count": 35,
   "id": "3d13306a-e38a-4a2b-aab4-45b9bd7bd607",
   "metadata": {},
   "outputs": [
    {
     "data": {
      "text/html": [
       "<div>\n",
       "<style scoped>\n",
       "    .dataframe tbody tr th:only-of-type {\n",
       "        vertical-align: middle;\n",
       "    }\n",
       "\n",
       "    .dataframe tbody tr th {\n",
       "        vertical-align: top;\n",
       "    }\n",
       "\n",
       "    .dataframe thead th {\n",
       "        text-align: right;\n",
       "    }\n",
       "</style>\n",
       "<table border=\"1\" class=\"dataframe\">\n",
       "  <thead>\n",
       "    <tr style=\"text-align: right;\">\n",
       "      <th></th>\n",
       "      <th>lecture_id</th>\n",
       "      <th>tag</th>\n",
       "      <th>part</th>\n",
       "      <th>type_of</th>\n",
       "    </tr>\n",
       "  </thead>\n",
       "  <tbody>\n",
       "    <tr>\n",
       "      <th>0</th>\n",
       "      <td>89</td>\n",
       "      <td>159</td>\n",
       "      <td>5</td>\n",
       "      <td>concept</td>\n",
       "    </tr>\n",
       "    <tr>\n",
       "      <th>1</th>\n",
       "      <td>100</td>\n",
       "      <td>70</td>\n",
       "      <td>1</td>\n",
       "      <td>concept</td>\n",
       "    </tr>\n",
       "    <tr>\n",
       "      <th>2</th>\n",
       "      <td>185</td>\n",
       "      <td>45</td>\n",
       "      <td>6</td>\n",
       "      <td>concept</td>\n",
       "    </tr>\n",
       "    <tr>\n",
       "      <th>3</th>\n",
       "      <td>192</td>\n",
       "      <td>79</td>\n",
       "      <td>5</td>\n",
       "      <td>solving question</td>\n",
       "    </tr>\n",
       "    <tr>\n",
       "      <th>4</th>\n",
       "      <td>317</td>\n",
       "      <td>156</td>\n",
       "      <td>5</td>\n",
       "      <td>solving question</td>\n",
       "    </tr>\n",
       "  </tbody>\n",
       "</table>\n",
       "</div>"
      ],
      "text/plain": [
       "   lecture_id  tag  part           type_of\n",
       "0          89  159     5           concept\n",
       "1         100   70     1           concept\n",
       "2         185   45     6           concept\n",
       "3         192   79     5  solving question\n",
       "4         317  156     5  solving question"
      ]
     },
     "execution_count": 35,
     "metadata": {},
     "output_type": "execute_result"
    }
   ],
   "source": [
    "lectures_data.head()"
   ]
  },
  {
   "cell_type": "markdown",
   "id": "06dcee3b-0fd9-4afd-8b1a-f681619b210a",
   "metadata": {},
   "source": [
    "questions_data.head()"
   ]
  },
  {
   "cell_type": "markdown",
   "id": "fd78ec84-9652-4cab-afeb-e1ea80dd37a2",
   "metadata": {},
   "source": [
    "Объединим датасет train с questions"
   ]
  },
  {
   "cell_type": "code",
   "execution_count": 4,
   "id": "bfa171e9-70a3-4cd1-895f-6b3cd5acdfc0",
   "metadata": {},
   "outputs": [
    {
     "data": {
      "text/html": [
       "<div>\n",
       "<style scoped>\n",
       "    .dataframe tbody tr th:only-of-type {\n",
       "        vertical-align: middle;\n",
       "    }\n",
       "\n",
       "    .dataframe tbody tr th {\n",
       "        vertical-align: top;\n",
       "    }\n",
       "\n",
       "    .dataframe thead th {\n",
       "        text-align: right;\n",
       "    }\n",
       "</style>\n",
       "<table border=\"1\" class=\"dataframe\">\n",
       "  <thead>\n",
       "    <tr style=\"text-align: right;\">\n",
       "      <th></th>\n",
       "      <th>row_id</th>\n",
       "      <th>timestamp</th>\n",
       "      <th>user_id</th>\n",
       "      <th>content_id</th>\n",
       "      <th>content_type_id</th>\n",
       "      <th>task_container_id</th>\n",
       "      <th>user_answer</th>\n",
       "      <th>answered_correctly</th>\n",
       "      <th>prior_question_elapsed_time</th>\n",
       "      <th>prior_question_had_explanation</th>\n",
       "      <th>question_id</th>\n",
       "      <th>bundle_id</th>\n",
       "      <th>correct_answer</th>\n",
       "      <th>part</th>\n",
       "      <th>tags</th>\n",
       "    </tr>\n",
       "  </thead>\n",
       "  <tbody>\n",
       "    <tr>\n",
       "      <th>0</th>\n",
       "      <td>0</td>\n",
       "      <td>0</td>\n",
       "      <td>115</td>\n",
       "      <td>5692</td>\n",
       "      <td>0</td>\n",
       "      <td>1</td>\n",
       "      <td>3</td>\n",
       "      <td>1</td>\n",
       "      <td>NaN</td>\n",
       "      <td>NaN</td>\n",
       "      <td>5692.0</td>\n",
       "      <td>5692.0</td>\n",
       "      <td>3.0</td>\n",
       "      <td>5.0</td>\n",
       "      <td>151</td>\n",
       "    </tr>\n",
       "    <tr>\n",
       "      <th>1</th>\n",
       "      <td>1</td>\n",
       "      <td>56943</td>\n",
       "      <td>115</td>\n",
       "      <td>5716</td>\n",
       "      <td>0</td>\n",
       "      <td>2</td>\n",
       "      <td>2</td>\n",
       "      <td>1</td>\n",
       "      <td>37000.0</td>\n",
       "      <td>False</td>\n",
       "      <td>5716.0</td>\n",
       "      <td>5716.0</td>\n",
       "      <td>2.0</td>\n",
       "      <td>5.0</td>\n",
       "      <td>168</td>\n",
       "    </tr>\n",
       "    <tr>\n",
       "      <th>2</th>\n",
       "      <td>2</td>\n",
       "      <td>118363</td>\n",
       "      <td>115</td>\n",
       "      <td>128</td>\n",
       "      <td>0</td>\n",
       "      <td>0</td>\n",
       "      <td>0</td>\n",
       "      <td>1</td>\n",
       "      <td>55000.0</td>\n",
       "      <td>False</td>\n",
       "      <td>128.0</td>\n",
       "      <td>128.0</td>\n",
       "      <td>0.0</td>\n",
       "      <td>1.0</td>\n",
       "      <td>131 149 92</td>\n",
       "    </tr>\n",
       "    <tr>\n",
       "      <th>3</th>\n",
       "      <td>3</td>\n",
       "      <td>131167</td>\n",
       "      <td>115</td>\n",
       "      <td>7860</td>\n",
       "      <td>0</td>\n",
       "      <td>3</td>\n",
       "      <td>0</td>\n",
       "      <td>1</td>\n",
       "      <td>19000.0</td>\n",
       "      <td>False</td>\n",
       "      <td>7860.0</td>\n",
       "      <td>7860.0</td>\n",
       "      <td>0.0</td>\n",
       "      <td>1.0</td>\n",
       "      <td>131 104 81</td>\n",
       "    </tr>\n",
       "    <tr>\n",
       "      <th>4</th>\n",
       "      <td>4</td>\n",
       "      <td>137965</td>\n",
       "      <td>115</td>\n",
       "      <td>7922</td>\n",
       "      <td>0</td>\n",
       "      <td>4</td>\n",
       "      <td>1</td>\n",
       "      <td>1</td>\n",
       "      <td>11000.0</td>\n",
       "      <td>False</td>\n",
       "      <td>7922.0</td>\n",
       "      <td>7922.0</td>\n",
       "      <td>1.0</td>\n",
       "      <td>1.0</td>\n",
       "      <td>131 149 92</td>\n",
       "    </tr>\n",
       "    <tr>\n",
       "      <th>...</th>\n",
       "      <td>...</td>\n",
       "      <td>...</td>\n",
       "      <td>...</td>\n",
       "      <td>...</td>\n",
       "      <td>...</td>\n",
       "      <td>...</td>\n",
       "      <td>...</td>\n",
       "      <td>...</td>\n",
       "      <td>...</td>\n",
       "      <td>...</td>\n",
       "      <td>...</td>\n",
       "      <td>...</td>\n",
       "      <td>...</td>\n",
       "      <td>...</td>\n",
       "      <td>...</td>\n",
       "    </tr>\n",
       "    <tr>\n",
       "      <th>101230327</th>\n",
       "      <td>101230327</td>\n",
       "      <td>428564420</td>\n",
       "      <td>2147482888</td>\n",
       "      <td>3586</td>\n",
       "      <td>0</td>\n",
       "      <td>22</td>\n",
       "      <td>0</td>\n",
       "      <td>1</td>\n",
       "      <td>18000.0</td>\n",
       "      <td>True</td>\n",
       "      <td>3586.0</td>\n",
       "      <td>3586.0</td>\n",
       "      <td>0.0</td>\n",
       "      <td>5.0</td>\n",
       "      <td>8</td>\n",
       "    </tr>\n",
       "    <tr>\n",
       "      <th>101230328</th>\n",
       "      <td>101230328</td>\n",
       "      <td>428585000</td>\n",
       "      <td>2147482888</td>\n",
       "      <td>6341</td>\n",
       "      <td>0</td>\n",
       "      <td>23</td>\n",
       "      <td>3</td>\n",
       "      <td>1</td>\n",
       "      <td>14000.0</td>\n",
       "      <td>True</td>\n",
       "      <td>6341.0</td>\n",
       "      <td>6341.0</td>\n",
       "      <td>3.0</td>\n",
       "      <td>5.0</td>\n",
       "      <td>60</td>\n",
       "    </tr>\n",
       "    <tr>\n",
       "      <th>101230329</th>\n",
       "      <td>101230329</td>\n",
       "      <td>428613475</td>\n",
       "      <td>2147482888</td>\n",
       "      <td>4212</td>\n",
       "      <td>0</td>\n",
       "      <td>24</td>\n",
       "      <td>3</td>\n",
       "      <td>1</td>\n",
       "      <td>14000.0</td>\n",
       "      <td>True</td>\n",
       "      <td>4212.0</td>\n",
       "      <td>4212.0</td>\n",
       "      <td>3.0</td>\n",
       "      <td>5.0</td>\n",
       "      <td>95</td>\n",
       "    </tr>\n",
       "    <tr>\n",
       "      <th>101230330</th>\n",
       "      <td>101230330</td>\n",
       "      <td>428649406</td>\n",
       "      <td>2147482888</td>\n",
       "      <td>6343</td>\n",
       "      <td>0</td>\n",
       "      <td>25</td>\n",
       "      <td>1</td>\n",
       "      <td>0</td>\n",
       "      <td>22000.0</td>\n",
       "      <td>True</td>\n",
       "      <td>6343.0</td>\n",
       "      <td>6343.0</td>\n",
       "      <td>0.0</td>\n",
       "      <td>5.0</td>\n",
       "      <td>60</td>\n",
       "    </tr>\n",
       "    <tr>\n",
       "      <th>101230331</th>\n",
       "      <td>101230331</td>\n",
       "      <td>428692118</td>\n",
       "      <td>2147482888</td>\n",
       "      <td>7995</td>\n",
       "      <td>0</td>\n",
       "      <td>26</td>\n",
       "      <td>3</td>\n",
       "      <td>1</td>\n",
       "      <td>29000.0</td>\n",
       "      <td>True</td>\n",
       "      <td>7995.0</td>\n",
       "      <td>7995.0</td>\n",
       "      <td>3.0</td>\n",
       "      <td>5.0</td>\n",
       "      <td>80</td>\n",
       "    </tr>\n",
       "  </tbody>\n",
       "</table>\n",
       "<p>101230332 rows × 15 columns</p>\n",
       "</div>"
      ],
      "text/plain": [
       "              row_id  timestamp     user_id  content_id  content_type_id  \\\n",
       "0                  0          0         115        5692                0   \n",
       "1                  1      56943         115        5716                0   \n",
       "2                  2     118363         115         128                0   \n",
       "3                  3     131167         115        7860                0   \n",
       "4                  4     137965         115        7922                0   \n",
       "...              ...        ...         ...         ...              ...   \n",
       "101230327  101230327  428564420  2147482888        3586                0   \n",
       "101230328  101230328  428585000  2147482888        6341                0   \n",
       "101230329  101230329  428613475  2147482888        4212                0   \n",
       "101230330  101230330  428649406  2147482888        6343                0   \n",
       "101230331  101230331  428692118  2147482888        7995                0   \n",
       "\n",
       "           task_container_id  user_answer  answered_correctly  \\\n",
       "0                          1            3                   1   \n",
       "1                          2            2                   1   \n",
       "2                          0            0                   1   \n",
       "3                          3            0                   1   \n",
       "4                          4            1                   1   \n",
       "...                      ...          ...                 ...   \n",
       "101230327                 22            0                   1   \n",
       "101230328                 23            3                   1   \n",
       "101230329                 24            3                   1   \n",
       "101230330                 25            1                   0   \n",
       "101230331                 26            3                   1   \n",
       "\n",
       "           prior_question_elapsed_time prior_question_had_explanation  \\\n",
       "0                                  NaN                            NaN   \n",
       "1                              37000.0                          False   \n",
       "2                              55000.0                          False   \n",
       "3                              19000.0                          False   \n",
       "4                              11000.0                          False   \n",
       "...                                ...                            ...   \n",
       "101230327                      18000.0                           True   \n",
       "101230328                      14000.0                           True   \n",
       "101230329                      14000.0                           True   \n",
       "101230330                      22000.0                           True   \n",
       "101230331                      29000.0                           True   \n",
       "\n",
       "           question_id  bundle_id  correct_answer  part        tags  \n",
       "0               5692.0     5692.0             3.0   5.0         151  \n",
       "1               5716.0     5716.0             2.0   5.0         168  \n",
       "2                128.0      128.0             0.0   1.0  131 149 92  \n",
       "3               7860.0     7860.0             0.0   1.0  131 104 81  \n",
       "4               7922.0     7922.0             1.0   1.0  131 149 92  \n",
       "...                ...        ...             ...   ...         ...  \n",
       "101230327       3586.0     3586.0             0.0   5.0           8  \n",
       "101230328       6341.0     6341.0             3.0   5.0          60  \n",
       "101230329       4212.0     4212.0             3.0   5.0          95  \n",
       "101230330       6343.0     6343.0             0.0   5.0          60  \n",
       "101230331       7995.0     7995.0             3.0   5.0          80  \n",
       "\n",
       "[101230332 rows x 15 columns]"
      ]
     },
     "metadata": {},
     "output_type": "display_data"
    }
   ],
   "source": [
    "train_df = train_data.merge(right=questions_data, how='left', left_on=['content_id'], right_on=['question_id'])\n",
    "display(train_df)"
   ]
  },
  {
   "cell_type": "markdown",
   "id": "d76cab02-322d-473d-a9a6-b6e441246205",
   "metadata": {},
   "source": [
    "Разобъем столбец с тэгами тем на строки"
   ]
  },
  {
   "cell_type": "code",
   "execution_count": null,
   "id": "0540fa1d-b820-46da-ab68-b26e54b15e8a",
   "metadata": {},
   "outputs": [],
   "source": [
    "train_df['tags'] = train_df['tags'].str.split(',')\n",
    "train_df = train_df.explode('tags')"
   ]
  },
  {
   "cell_type": "markdown",
   "id": "d5cd2bb3-2230-41d2-9aae-fac018062499",
   "metadata": {},
   "source": [
    "Выведем наиболее популярные теги в зависимости от корректности ответа на вопрос"
   ]
  },
  {
   "cell_type": "code",
   "execution_count": null,
   "id": "a8f00eb0-10b4-41f3-8d09-88b4f8c20fed",
   "metadata": {},
   "outputs": [],
   "source": [
    "train_df[(train_df['answered_correctly'] == 1)]['tags'].mode()\n",
    "train_df[(train_df['answered_correctly'] == 0)]['tags'].mode()"
   ]
  },
  {
   "cell_type": "markdown",
   "id": "3c0d4863-ce16-4464-8f33-65476e8efd7c",
   "metadata": {},
   "source": [
    "Видим, что на вопросы с тэгом=24 получено всего 38.6% правильных ответов, а на вопросы с тэгом=68 более 86%"
   ]
  },
  {
   "cell_type": "markdown",
   "id": "2199dbeb-224a-4b51-819a-6c4695ec81df",
   "metadata": {},
   "source": [
    "Аналогично рассматриваем данные для частей (part)"
   ]
  },
  {
   "cell_type": "code",
   "execution_count": null,
   "id": "065b4085-f6b9-4869-96c6-949bf07266d5",
   "metadata": {},
   "outputs": [],
   "source": [
    "train_df[(train_df['answered_correctly'] == 1)]['part'].mode()\n",
    "train_df[(train_df['answered_correctly'] == 0)]['part'].mode()"
   ]
  },
  {
   "cell_type": "markdown",
   "id": "1edc6607-84dc-4d64-b831-461346f8cf57",
   "metadata": {},
   "source": [
    "Видим, что на вопросы с темой=5 получено 61% правильных ответов, а на вопросы с темой=1 более 74%"
   ]
  },
  {
   "cell_type": "markdown",
   "id": "b8976580-b242-4c05-a9f4-79794b5fdbeb",
   "metadata": {},
   "source": [
    "Мой код не работает из-за нехватки памяти. Я не знаю, как можно это исправить, не прибегая к сторонним библиотекам, которые мы не проходили"
   ]
  }
 ],
 "metadata": {
  "kernelspec": {
   "display_name": "Python 3 (ipykernel)",
   "language": "python",
   "name": "python3"
  },
  "language_info": {
   "codemirror_mode": {
    "name": "ipython",
    "version": 3
   },
   "file_extension": ".py",
   "mimetype": "text/x-python",
   "name": "python",
   "nbconvert_exporter": "python",
   "pygments_lexer": "ipython3",
   "version": "3.12.4"
  }
 },
 "nbformat": 4,
 "nbformat_minor": 5
}
